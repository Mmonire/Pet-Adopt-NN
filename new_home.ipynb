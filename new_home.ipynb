{
 "cells": [
  {
   "attachments": {},
   "cell_type": "markdown",
   "metadata": {
    "id": "tE57GLIXf5Bq"
   },
   "source": [
    "<h1 dir=rtl align=center style=\"line-height:200%;font-family:vazir;color:#0099cc\">\n",
    "<font face=\"vazir\" color=\"#0099cc\">\n",
    "new home\n",
    "</font>\n",
    "</h1>\n",
    "\n",
    "<p dir=rtl style=\"direction: ltr; text-align: justify; line-height:200%; font-family:vazir; font-size:medium\">\n",
    "<font face=\"vazir\">\n",
    "This practical tutorial covers exploratory data analysis, preprocessing, and building a deep neural network in Keras to predict pet adoption success.\n",
    "</font>\n",
    "</p>"
   ]
  },
  {
   "cell_type": "code",
   "execution_count": 1,
   "metadata": {
    "id": "4lddftZAf5Bv"
   },
   "outputs": [],
   "source": [
    "import numpy as np\n",
    "import pandas as pd"
   ]
  },
  {
   "cell_type": "code",
   "execution_count": 2,
   "metadata": {},
   "outputs": [],
   "source": [
    "import os\n",
    "os.environ[\"KERAS_BACKEND\"] = \"tensorflow\""
   ]
  },
  {
   "cell_type": "code",
   "execution_count": 3,
   "metadata": {
    "id": "KCk8pM0ofVvf"
   },
   "outputs": [
    {
     "name": "stdout",
     "output_type": "stream",
     "text": [
      "3.4.1\n"
     ]
    }
   ],
   "source": [
    "import keras\n",
    "print(keras.__version__)"
   ]
  },
  {
   "cell_type": "markdown",
   "metadata": {
    "id": "v8smqKiD3189"
   },
   "source": [
    "<h2 dir=rtl align=right style=\"line-height:200%;font-family:vazir;color:#0099cc\">\n",
    "<font face=\"vazir\" color=\"#0099cc\">\n",
    "مجموعه‌داده\n",
    "</font>\n",
    "</h2>\n",
    "\n",
    "<center>\n",
    "<div dir=rtl style=\"direction: rtl;line-height:200%;font-family:vazir;font-size:medium\">\n",
    "<font face=\"vazir\" size=3>\n",
    "\n",
    "|ستون|توضیحات|\n",
    "|:------:|:---:|\n",
    "|<code>Type</code>| نوع حیوان|\n",
    "|<code>Age</code>| سن حیوان خانگی (به ماه) هنگام لیست شدن|\n",
    "|<code>Breed1</code>|نژاد اصلی حیوان خانگی|\n",
    "|<code>Gender</code>|جنسیت حیوان خانگی|\n",
    "|<code>Color1</code>|رنگ اصلی حیوان خانگی|\n",
    "|<code>Color2</code>|رنگ دوم حیوان خانگی (در صورت وجود)|\n",
    "|<code>MaturitySize</code>|اندازه|\n",
    "|<code>FurLength</code>|طول خز|\n",
    "|<code>Vaccinated</code>|وضعیت واکسینه شدن|\n",
    "|<code>Sterilized</code>|وضعیت انگل‌زدایی شدن|\n",
    "|<code>Health</code>|وضعیت سلامتی|\n",
    "|<code>Fee</code>|هزینه|\n",
    "|<code>Description</code>|توضیحات|\n",
    "|<code>PhotoAmt</code>|تعداد عکس بارگذاری شده|\n",
    "|<code>AdoptionSpeed</code>|سرعت پذیرش (توضیح این اعداد در ادامه آمده است)|\n",
    "\n",
    "<br>\n",
    "\n",
    "|توضیحات|سرعت پذیرش|\n",
    "|:------:|:---:|\n",
    "|حیوان خانگی در همان روزی که لیست شده به سرپرستی پذیرفته شد.|<code>0</code>|\n",
    "|\tحیوان خانگی بین ۱ تا ۷ روز (هفته اول) پس از لیست شدن به سرپرستی پذیرفته شد.|<code>1</code>|\n",
    "|حیوان خانگی بین ۸ تا ۳۰ روز (ماه اول) پس از لیست شدن به سرپرستی پذیرفته شد.|<code>2</code>|\n",
    "|حیوان خانگی بین ۳۱ تا ۹۰ روز (ماه دوم و سوم) پس از لیست شدن به سرپرستی پذیرفته شد.|<code>3</code>|\n",
    "|پس از ۱۰۰ روز لیست شدن، حیوان خانگی به سرپرستی پذیرفته نشد.|<code>4</code>|\n",
    "\n",
    "</font>\n",
    "</div>\n",
    "</center>"
   ]
  },
  {
   "cell_type": "code",
   "execution_count": 5,
   "metadata": {
    "id": "huIChr-93hDq"
   },
   "outputs": [],
   "source": [
    "train = pd.read_csv('data\\petfinder_train.csv')\n",
    "test = pd.read_csv('data\\petfinder_test.csv')"
   ]
  },
  {
   "cell_type": "code",
   "execution_count": 6,
   "metadata": {
    "id": "tBg8FlMEf5By"
   },
   "outputs": [
    {
     "data": {
      "text/html": [
       "<div>\n",
       "<style scoped>\n",
       "    .dataframe tbody tr th:only-of-type {\n",
       "        vertical-align: middle;\n",
       "    }\n",
       "\n",
       "    .dataframe tbody tr th {\n",
       "        vertical-align: top;\n",
       "    }\n",
       "\n",
       "    .dataframe thead th {\n",
       "        text-align: right;\n",
       "    }\n",
       "</style>\n",
       "<table border=\"1\" class=\"dataframe\">\n",
       "  <thead>\n",
       "    <tr style=\"text-align: right;\">\n",
       "      <th></th>\n",
       "      <th>Type</th>\n",
       "      <th>Age</th>\n",
       "      <th>Breed1</th>\n",
       "      <th>Gender</th>\n",
       "      <th>Color1</th>\n",
       "      <th>Color2</th>\n",
       "      <th>MaturitySize</th>\n",
       "      <th>FurLength</th>\n",
       "      <th>Vaccinated</th>\n",
       "      <th>Sterilized</th>\n",
       "      <th>Health</th>\n",
       "      <th>Fee</th>\n",
       "      <th>Description</th>\n",
       "      <th>PhotoAmt</th>\n",
       "      <th>AdoptionSpeed</th>\n",
       "    </tr>\n",
       "  </thead>\n",
       "  <tbody>\n",
       "    <tr>\n",
       "      <th>0</th>\n",
       "      <td>Cat</td>\n",
       "      <td>3</td>\n",
       "      <td>Tabby</td>\n",
       "      <td>Male</td>\n",
       "      <td>Black</td>\n",
       "      <td>White</td>\n",
       "      <td>Small</td>\n",
       "      <td>Short</td>\n",
       "      <td>No</td>\n",
       "      <td>No</td>\n",
       "      <td>Healthy</td>\n",
       "      <td>100</td>\n",
       "      <td>Nibble is a 3+ month old ball of cuteness. He ...</td>\n",
       "      <td>1</td>\n",
       "      <td>2</td>\n",
       "    </tr>\n",
       "    <tr>\n",
       "      <th>1</th>\n",
       "      <td>Cat</td>\n",
       "      <td>1</td>\n",
       "      <td>Domestic Medium Hair</td>\n",
       "      <td>Male</td>\n",
       "      <td>Black</td>\n",
       "      <td>Brown</td>\n",
       "      <td>Medium</td>\n",
       "      <td>Medium</td>\n",
       "      <td>Not Sure</td>\n",
       "      <td>Not Sure</td>\n",
       "      <td>Healthy</td>\n",
       "      <td>0</td>\n",
       "      <td>I just found it alone yesterday near my apartm...</td>\n",
       "      <td>2</td>\n",
       "      <td>0</td>\n",
       "    </tr>\n",
       "    <tr>\n",
       "      <th>2</th>\n",
       "      <td>Dog</td>\n",
       "      <td>1</td>\n",
       "      <td>Mixed Breed</td>\n",
       "      <td>Male</td>\n",
       "      <td>Brown</td>\n",
       "      <td>White</td>\n",
       "      <td>Medium</td>\n",
       "      <td>Medium</td>\n",
       "      <td>Yes</td>\n",
       "      <td>No</td>\n",
       "      <td>Healthy</td>\n",
       "      <td>0</td>\n",
       "      <td>Their pregnant mother was dumped by her irresp...</td>\n",
       "      <td>7</td>\n",
       "      <td>3</td>\n",
       "    </tr>\n",
       "    <tr>\n",
       "      <th>3</th>\n",
       "      <td>Dog</td>\n",
       "      <td>4</td>\n",
       "      <td>Mixed Breed</td>\n",
       "      <td>Female</td>\n",
       "      <td>Black</td>\n",
       "      <td>Brown</td>\n",
       "      <td>Medium</td>\n",
       "      <td>Short</td>\n",
       "      <td>Yes</td>\n",
       "      <td>No</td>\n",
       "      <td>Healthy</td>\n",
       "      <td>150</td>\n",
       "      <td>Good guard dog, very alert, active, obedience ...</td>\n",
       "      <td>8</td>\n",
       "      <td>2</td>\n",
       "    </tr>\n",
       "    <tr>\n",
       "      <th>4</th>\n",
       "      <td>Dog</td>\n",
       "      <td>1</td>\n",
       "      <td>Mixed Breed</td>\n",
       "      <td>Male</td>\n",
       "      <td>Black</td>\n",
       "      <td>No Color</td>\n",
       "      <td>Medium</td>\n",
       "      <td>Short</td>\n",
       "      <td>No</td>\n",
       "      <td>No</td>\n",
       "      <td>Healthy</td>\n",
       "      <td>0</td>\n",
       "      <td>This handsome yet cute boy is up for adoption....</td>\n",
       "      <td>3</td>\n",
       "      <td>2</td>\n",
       "    </tr>\n",
       "  </tbody>\n",
       "</table>\n",
       "</div>"
      ],
      "text/plain": [
       "  Type  Age                Breed1  Gender Color1    Color2 MaturitySize  \\\n",
       "0  Cat    3                 Tabby    Male  Black     White        Small   \n",
       "1  Cat    1  Domestic Medium Hair    Male  Black     Brown       Medium   \n",
       "2  Dog    1           Mixed Breed    Male  Brown     White       Medium   \n",
       "3  Dog    4           Mixed Breed  Female  Black     Brown       Medium   \n",
       "4  Dog    1           Mixed Breed    Male  Black  No Color       Medium   \n",
       "\n",
       "  FurLength Vaccinated Sterilized   Health  Fee  \\\n",
       "0     Short         No         No  Healthy  100   \n",
       "1    Medium   Not Sure   Not Sure  Healthy    0   \n",
       "2    Medium        Yes         No  Healthy    0   \n",
       "3     Short        Yes         No  Healthy  150   \n",
       "4     Short         No         No  Healthy    0   \n",
       "\n",
       "                                         Description  PhotoAmt  AdoptionSpeed  \n",
       "0  Nibble is a 3+ month old ball of cuteness. He ...         1              2  \n",
       "1  I just found it alone yesterday near my apartm...         2              0  \n",
       "2  Their pregnant mother was dumped by her irresp...         7              3  \n",
       "3  Good guard dog, very alert, active, obedience ...         8              2  \n",
       "4  This handsome yet cute boy is up for adoption....         3              2  "
      ]
     },
     "execution_count": 6,
     "metadata": {},
     "output_type": "execute_result"
    }
   ],
   "source": [
    "train.head()"
   ]
  },
  {
   "cell_type": "code",
   "execution_count": 7,
   "metadata": {
    "id": "nKP7FU753j_L"
   },
   "outputs": [
    {
     "name": "stdout",
     "output_type": "stream",
     "text": [
      "<class 'pandas.core.frame.DataFrame'>\n",
      "RangeIndex: 10537 entries, 0 to 10536\n",
      "Data columns (total 15 columns):\n",
      " #   Column         Non-Null Count  Dtype \n",
      "---  ------         --------------  ----- \n",
      " 0   Type           10537 non-null  object\n",
      " 1   Age            10537 non-null  int64 \n",
      " 2   Breed1         10537 non-null  object\n",
      " 3   Gender         10537 non-null  object\n",
      " 4   Color1         10537 non-null  object\n",
      " 5   Color2         10537 non-null  object\n",
      " 6   MaturitySize   10537 non-null  object\n",
      " 7   FurLength      10537 non-null  object\n",
      " 8   Vaccinated     10537 non-null  object\n",
      " 9   Sterilized     10537 non-null  object\n",
      " 10  Health         10537 non-null  object\n",
      " 11  Fee            10537 non-null  int64 \n",
      " 12  Description    10528 non-null  object\n",
      " 13  PhotoAmt       10537 non-null  int64 \n",
      " 14  AdoptionSpeed  10537 non-null  int64 \n",
      "dtypes: int64(4), object(11)\n",
      "memory usage: 1.2+ MB\n"
     ]
    }
   ],
   "source": [
    "train.info()"
   ]
  },
  {
   "cell_type": "markdown",
   "metadata": {
    "id": "Cww908ugf5By"
   },
   "source": [
    "<h2 dir=rtl align=left style=\"line-height:200%;font-family:vazir;color:#0099cc\">\n",
    "<font face=\"vazir\" color=\"#0099cc\">\n",
    "Data Preprocessing</font>\n",
    "</h2>\n"
   ]
  },
  {
   "cell_type": "code",
   "execution_count": 8,
   "metadata": {
    "id": "byXI0LWzgxQR"
   },
   "outputs": [],
   "source": [
    "train['Target'] = np.where(train['AdoptionSpeed'] < 4, True, False)"
   ]
  },
  {
   "cell_type": "code",
   "execution_count": 9,
   "metadata": {
    "id": "JwIXEWyQjImO"
   },
   "outputs": [],
   "source": [
    "train.drop(columns=['AdoptionSpeed', 'Description'], inplace=True)\n",
    "test.drop(columns=['Description'], inplace=True)"
   ]
  },
  {
   "cell_type": "code",
   "execution_count": 10,
   "metadata": {
    "id": "KB5V1APOf5B0"
   },
   "outputs": [
    {
     "name": "stdout",
     "output_type": "stream",
     "text": [
      "<class 'pandas.core.frame.DataFrame'>\n",
      "RangeIndex: 10537 entries, 0 to 10536\n",
      "Data columns (total 14 columns):\n",
      " #   Column        Non-Null Count  Dtype \n",
      "---  ------        --------------  ----- \n",
      " 0   Type          10537 non-null  object\n",
      " 1   Age           10537 non-null  int64 \n",
      " 2   Breed1        10537 non-null  object\n",
      " 3   Gender        10537 non-null  object\n",
      " 4   Color1        10537 non-null  object\n",
      " 5   Color2        10537 non-null  object\n",
      " 6   MaturitySize  10537 non-null  object\n",
      " 7   FurLength     10537 non-null  object\n",
      " 8   Vaccinated    10537 non-null  object\n",
      " 9   Sterilized    10537 non-null  object\n",
      " 10  Health        10537 non-null  object\n",
      " 11  Fee           10537 non-null  int64 \n",
      " 12  PhotoAmt      10537 non-null  int64 \n",
      " 13  Target        10537 non-null  bool  \n",
      "dtypes: bool(1), int64(3), object(10)\n",
      "memory usage: 1.1+ MB\n"
     ]
    }
   ],
   "source": [
    "train.info()"
   ]
  },
  {
   "cell_type": "code",
   "execution_count": 11,
   "metadata": {
    "id": "dx9Rzs0vf5B0"
   },
   "outputs": [
    {
     "name": "stdout",
     "output_type": "stream",
     "text": [
      "column: Type unique_values: 2\n",
      "column: Breed1 unique_values: 165\n",
      "column: Gender unique_values: 2\n",
      "column: Color1 unique_values: 7\n",
      "column: Color2 unique_values: 7\n",
      "column: MaturitySize unique_values: 3\n",
      "column: FurLength unique_values: 3\n",
      "column: Vaccinated unique_values: 3\n",
      "column: Sterilized unique_values: 3\n",
      "column: Health unique_values: 3\n"
     ]
    }
   ],
   "source": [
    "for column in [\"Type\", \"Breed1\", \"Gender\", \"Color1\", \"Color2\", \"MaturitySize\", \"FurLength\", \"Vaccinated\", \"Sterilized\", \"Health\"]:\n",
    "    print(\"column:\", column, \"unique_values:\", len(train[column].unique()))"
   ]
  },
  {
   "cell_type": "code",
   "execution_count": null,
   "metadata": {
    "id": "5KmcCLT_f5B1"
   },
   "outputs": [],
   "source": [
    "from sklearn.preprocessing import LabelEncoder\n",
    "\n",
    "le = LabelEncoder()\n",
    "\n",
    "train['MaturitySize'] = le.fit_transform(train['MaturitySize'])\n",
    "test['MaturitySize'] = le.transform(test['MaturitySize'])\n",
    "\n",
    "train['FurLength'] = le.fit_transform(train['FurLength'])\n",
    "test['FurLength'] = le.transform(test['FurLength'])\n",
    "\n",
    "train['Health'] = le.fit_transform(train['Health'])\n",
    "test['Health'] = le.transform(test['Health'])"
   ]
  },
  {
   "cell_type": "code",
   "execution_count": null,
   "metadata": {
    "id": "bim0mQD9f5B1"
   },
   "outputs": [],
   "source": [
    "label_encoder = LabelEncoder()\n",
    "\n",
    "train['Type'] = label_encoder.fit_transform(train['Type'])\n",
    "test['Type'] = label_encoder.transform(test['Type'])\n",
    "\n",
    "train['Gender'] = label_encoder.fit_transform(train['Gender'])\n",
    "test['Gender'] = label_encoder.transform(test['Gender'])"
   ]
  },
  {
   "cell_type": "code",
   "execution_count": 16,
   "metadata": {
    "id": "ei-Ms7Avf5B1"
   },
   "outputs": [],
   "source": [
    "import category_encoders as ce\n",
    "\n",
    "binary_encoder = ce.BinaryEncoder()\n",
    "\n",
    "train_binary_Breed1 = binary_encoder.fit_transform(train['Breed1'])\n",
    "test_binary_Breed1 = binary_encoder.transform(test['Breed1'])\n",
    "\n",
    "train_binary_Color1 = binary_encoder.fit_transform(train['Color1'])\n",
    "test_binary_Color1 = binary_encoder.transform(test['Color1'])\n",
    "\n",
    "train_binary_Color2 = binary_encoder.fit_transform(train['Color2'])\n",
    "test_binary_Color2 = binary_encoder.transform(test['Color2'])\n",
    "\n",
    "train_binary_Vaccinated = binary_encoder.fit_transform(train['Vaccinated'])\n",
    "test_binary_Vaccinated = binary_encoder.transform(test['Vaccinated'])\n",
    "\n",
    "train_binary_Sterilized = binary_encoder.fit_transform(train['Sterilized'])\n",
    "test_binary_Sterilized = binary_encoder.transform(test['Sterilized'])"
   ]
  },
  {
   "cell_type": "code",
   "execution_count": 17,
   "metadata": {
    "id": "0rQ9OgZsf5B2"
   },
   "outputs": [
    {
     "name": "stdout",
     "output_type": "stream",
     "text": [
      "<class 'pandas.core.frame.DataFrame'>\n",
      "RangeIndex: 10537 entries, 0 to 10536\n",
      "Data columns (total 27 columns):\n",
      " #   Column        Non-Null Count  Dtype\n",
      "---  ------        --------------  -----\n",
      " 0   Type          10537 non-null  int32\n",
      " 1   Age           10537 non-null  int64\n",
      " 2   Gender        10537 non-null  int32\n",
      " 3   MaturitySize  10537 non-null  int32\n",
      " 4   FurLength     10537 non-null  int32\n",
      " 5   Health        10537 non-null  int32\n",
      " 6   Fee           10537 non-null  int64\n",
      " 7   PhotoAmt      10537 non-null  int64\n",
      " 8   Target        10537 non-null  bool \n",
      " 9   Breed1_0      10537 non-null  int64\n",
      " 10  Breed1_1      10537 non-null  int64\n",
      " 11  Breed1_2      10537 non-null  int64\n",
      " 12  Breed1_3      10537 non-null  int64\n",
      " 13  Breed1_4      10537 non-null  int64\n",
      " 14  Breed1_5      10537 non-null  int64\n",
      " 15  Breed1_6      10537 non-null  int64\n",
      " 16  Breed1_7      10537 non-null  int64\n",
      " 17  Color1_0      10537 non-null  int64\n",
      " 18  Color1_1      10537 non-null  int64\n",
      " 19  Color1_2      10537 non-null  int64\n",
      " 20  Color2_0      10537 non-null  int64\n",
      " 21  Color2_1      10537 non-null  int64\n",
      " 22  Color2_2      10537 non-null  int64\n",
      " 23  Vaccinated_0  10537 non-null  int64\n",
      " 24  Vaccinated_1  10537 non-null  int64\n",
      " 25  Sterilized_0  10537 non-null  int64\n",
      " 26  Sterilized_1  10537 non-null  int64\n",
      "dtypes: bool(1), int32(5), int64(21)\n",
      "memory usage: 1.9 MB\n"
     ]
    }
   ],
   "source": [
    "train = pd.concat([train, train_binary_Breed1, train_binary_Color1, train_binary_Color2, train_binary_Vaccinated, train_binary_Sterilized], axis=1)\n",
    "columns = ['Breed1','Color1','Color2','Vaccinated','Sterilized']\n",
    "train.drop(columns = columns, inplace = True)\n",
    "\n",
    "test = pd.concat([test, test_binary_Breed1, test_binary_Color1, test_binary_Color2, test_binary_Vaccinated, test_binary_Sterilized], axis=1)\n",
    "columns = ['Breed1','Color1','Color2','Vaccinated','Sterilized']\n",
    "test.drop(columns = columns, inplace = True)\n",
    "\n",
    "train.info()"
   ]
  },
  {
   "cell_type": "markdown",
   "metadata": {},
   "source": [
    "<h2 dir=rtl align=left style=\"line-height:200%;font-family:vazir;color:#0099cc\">\n",
    "<font face=\"vazir\" color=\"#0099cc\">\n",
    "Data Normalization</font>\n"
   ]
  },
  {
   "cell_type": "code",
   "execution_count": null,
   "metadata": {},
   "outputs": [
    {
     "data": {
      "text/html": [
       "<div>\n",
       "<style scoped>\n",
       "    .dataframe tbody tr th:only-of-type {\n",
       "        vertical-align: middle;\n",
       "    }\n",
       "\n",
       "    .dataframe tbody tr th {\n",
       "        vertical-align: top;\n",
       "    }\n",
       "\n",
       "    .dataframe thead th {\n",
       "        text-align: right;\n",
       "    }\n",
       "</style>\n",
       "<table border=\"1\" class=\"dataframe\">\n",
       "  <thead>\n",
       "    <tr style=\"text-align: right;\">\n",
       "      <th></th>\n",
       "      <th>Type</th>\n",
       "      <th>Age</th>\n",
       "      <th>Gender</th>\n",
       "      <th>MaturitySize</th>\n",
       "      <th>FurLength</th>\n",
       "      <th>Health</th>\n",
       "      <th>Fee</th>\n",
       "      <th>PhotoAmt</th>\n",
       "      <th>Breed1_0</th>\n",
       "      <th>Breed1_1</th>\n",
       "      <th>...</th>\n",
       "      <th>Color1_0</th>\n",
       "      <th>Color1_1</th>\n",
       "      <th>Color1_2</th>\n",
       "      <th>Color2_0</th>\n",
       "      <th>Color2_1</th>\n",
       "      <th>Color2_2</th>\n",
       "      <th>Vaccinated_0</th>\n",
       "      <th>Vaccinated_1</th>\n",
       "      <th>Sterilized_0</th>\n",
       "      <th>Sterilized_1</th>\n",
       "    </tr>\n",
       "  </thead>\n",
       "  <tbody>\n",
       "    <tr>\n",
       "      <th>0</th>\n",
       "      <td>0.866680</td>\n",
       "      <td>-0.501042</td>\n",
       "      <td>-0.879677</td>\n",
       "      <td>-0.226574</td>\n",
       "      <td>0.790516</td>\n",
       "      <td>-0.194365</td>\n",
       "      <td>-0.29796</td>\n",
       "      <td>-0.830874</td>\n",
       "      <td>-0.073746</td>\n",
       "      <td>-0.184801</td>\n",
       "      <td>...</td>\n",
       "      <td>-0.521041</td>\n",
       "      <td>-0.861486</td>\n",
       "      <td>0.761850</td>\n",
       "      <td>-0.520158</td>\n",
       "      <td>0.777326</td>\n",
       "      <td>0.637933</td>\n",
       "      <td>-1.151487</td>\n",
       "      <td>0.386892</td>\n",
       "      <td>-0.730867</td>\n",
       "      <td>0.360165</td>\n",
       "    </tr>\n",
       "    <tr>\n",
       "      <th>1</th>\n",
       "      <td>-1.153719</td>\n",
       "      <td>0.015102</td>\n",
       "      <td>-0.879677</td>\n",
       "      <td>-0.226574</td>\n",
       "      <td>-0.845318</td>\n",
       "      <td>4.568489</td>\n",
       "      <td>-0.29796</td>\n",
       "      <td>-0.830874</td>\n",
       "      <td>-0.073746</td>\n",
       "      <td>-0.184801</td>\n",
       "      <td>...</td>\n",
       "      <td>-0.521041</td>\n",
       "      <td>1.160675</td>\n",
       "      <td>-1.312469</td>\n",
       "      <td>1.922312</td>\n",
       "      <td>0.777326</td>\n",
       "      <td>-1.567414</td>\n",
       "      <td>0.868360</td>\n",
       "      <td>-2.584453</td>\n",
       "      <td>1.368109</td>\n",
       "      <td>-2.776244</td>\n",
       "    </tr>\n",
       "    <tr>\n",
       "      <th>2</th>\n",
       "      <td>-1.153719</td>\n",
       "      <td>-0.449427</td>\n",
       "      <td>-0.879677</td>\n",
       "      <td>1.629890</td>\n",
       "      <td>0.790516</td>\n",
       "      <td>-0.194365</td>\n",
       "      <td>-0.29796</td>\n",
       "      <td>-0.512200</td>\n",
       "      <td>-0.073746</td>\n",
       "      <td>-0.184801</td>\n",
       "      <td>...</td>\n",
       "      <td>-0.521041</td>\n",
       "      <td>-0.861486</td>\n",
       "      <td>0.761850</td>\n",
       "      <td>-0.520158</td>\n",
       "      <td>-1.286339</td>\n",
       "      <td>0.637933</td>\n",
       "      <td>-1.151487</td>\n",
       "      <td>0.386892</td>\n",
       "      <td>-0.730867</td>\n",
       "      <td>0.360165</td>\n",
       "    </tr>\n",
       "    <tr>\n",
       "      <th>3</th>\n",
       "      <td>0.866680</td>\n",
       "      <td>-0.501042</td>\n",
       "      <td>-0.879677</td>\n",
       "      <td>-0.226574</td>\n",
       "      <td>-0.845318</td>\n",
       "      <td>-0.194365</td>\n",
       "      <td>-0.29796</td>\n",
       "      <td>0.443820</td>\n",
       "      <td>-0.073746</td>\n",
       "      <td>-0.184801</td>\n",
       "      <td>...</td>\n",
       "      <td>-0.521041</td>\n",
       "      <td>1.160675</td>\n",
       "      <td>0.761850</td>\n",
       "      <td>-0.520158</td>\n",
       "      <td>0.777326</td>\n",
       "      <td>0.637933</td>\n",
       "      <td>0.868360</td>\n",
       "      <td>0.386892</td>\n",
       "      <td>-0.730867</td>\n",
       "      <td>0.360165</td>\n",
       "    </tr>\n",
       "    <tr>\n",
       "      <th>4</th>\n",
       "      <td>0.866680</td>\n",
       "      <td>0.015102</td>\n",
       "      <td>-0.879677</td>\n",
       "      <td>-0.226574</td>\n",
       "      <td>-2.481151</td>\n",
       "      <td>-0.194365</td>\n",
       "      <td>-0.29796</td>\n",
       "      <td>-0.512200</td>\n",
       "      <td>-0.073746</td>\n",
       "      <td>-0.184801</td>\n",
       "      <td>...</td>\n",
       "      <td>1.919052</td>\n",
       "      <td>1.160675</td>\n",
       "      <td>-1.312469</td>\n",
       "      <td>-0.520158</td>\n",
       "      <td>0.777326</td>\n",
       "      <td>0.637933</td>\n",
       "      <td>0.868360</td>\n",
       "      <td>-2.584453</td>\n",
       "      <td>1.368109</td>\n",
       "      <td>-2.776244</td>\n",
       "    </tr>\n",
       "  </tbody>\n",
       "</table>\n",
       "<p>5 rows × 26 columns</p>\n",
       "</div>"
      ],
      "text/plain": [
       "       Type       Age    Gender  MaturitySize  FurLength    Health      Fee  \\\n",
       "0  0.866680 -0.501042 -0.879677     -0.226574   0.790516 -0.194365 -0.29796   \n",
       "1 -1.153719  0.015102 -0.879677     -0.226574  -0.845318  4.568489 -0.29796   \n",
       "2 -1.153719 -0.449427 -0.879677      1.629890   0.790516 -0.194365 -0.29796   \n",
       "3  0.866680 -0.501042 -0.879677     -0.226574  -0.845318 -0.194365 -0.29796   \n",
       "4  0.866680  0.015102 -0.879677     -0.226574  -2.481151 -0.194365 -0.29796   \n",
       "\n",
       "   PhotoAmt  Breed1_0  Breed1_1  ...  Color1_0  Color1_1  Color1_2  Color2_0  \\\n",
       "0 -0.830874 -0.073746 -0.184801  ... -0.521041 -0.861486  0.761850 -0.520158   \n",
       "1 -0.830874 -0.073746 -0.184801  ... -0.521041  1.160675 -1.312469  1.922312   \n",
       "2 -0.512200 -0.073746 -0.184801  ... -0.521041 -0.861486  0.761850 -0.520158   \n",
       "3  0.443820 -0.073746 -0.184801  ... -0.521041  1.160675  0.761850 -0.520158   \n",
       "4 -0.512200 -0.073746 -0.184801  ...  1.919052  1.160675 -1.312469 -0.520158   \n",
       "\n",
       "   Color2_1  Color2_2  Vaccinated_0  Vaccinated_1  Sterilized_0  Sterilized_1  \n",
       "0  0.777326  0.637933     -1.151487      0.386892     -0.730867      0.360165  \n",
       "1  0.777326 -1.567414      0.868360     -2.584453      1.368109     -2.776244  \n",
       "2 -1.286339  0.637933     -1.151487      0.386892     -0.730867      0.360165  \n",
       "3  0.777326  0.637933      0.868360      0.386892     -0.730867      0.360165  \n",
       "4  0.777326  0.637933      0.868360     -2.584453      1.368109     -2.776244  \n",
       "\n",
       "[5 rows x 26 columns]"
      ]
     },
     "execution_count": 18,
     "metadata": {},
     "output_type": "execute_result"
    }
   ],
   "source": [
    "columns = [col for col in train.columns if col != 'Target']\n",
    "\n",
    "for column in columns:\n",
    "    mean = train[column].mean() \n",
    "    std = train[column].std()     \n",
    "    train[column] = (train[column] - mean) / std\n",
    "    \n",
    "    test[column] = (test[column] - mean) / std\n",
    "\n",
    "test.head()"
   ]
  },
  {
   "cell_type": "code",
   "execution_count": null,
   "metadata": {
    "id": "IxvwowoojG9X"
   },
   "outputs": [
    {
     "name": "stdout",
     "output_type": "stream",
     "text": [
      "Train examples: 9483 9483\n",
      "Validation examples: 1054 1054\n",
      "Test examples: 1000\n"
     ]
    }
   ],
   "source": [
    "from sklearn.model_selection import train_test_split\n",
    "\n",
    "X = train.drop(columns=['Target'])\n",
    "y = train['Target']  \n",
    "\n",
    "X_train, X_valid, y_train, y_valid = train_test_split(X, y, test_size=0.1, random_state=42)\n",
    "\n",
    "print('Train examples:', len(X_train), len(y_train))\n",
    "print('Validation examples:', len(X_valid), len(y_valid))\n",
    "print('Test examples:',  len(test))"
   ]
  },
  {
   "cell_type": "markdown",
   "metadata": {
    "id": "-Ral8_ksf5B2"
   },
   "source": [
    "<h2 dir=rtl align=left style=\"line-height:200%;font-family:vazir;color:#0099cc\">\n",
    "<font face=\"vazir\" color=\"#0099cc\">\n",
    "Building the Neural Network</font>\n",
    "</h2>\n"
   ]
  },
  {
   "cell_type": "code",
   "execution_count": null,
   "metadata": {
    "id": "PnNJ6CFG5oR4"
   },
   "outputs": [],
   "source": [
    "from tensorflow import keras\n",
    "from tensorflow.keras import layers\n",
    "model = keras.Sequential()\n",
    "\n",
    "input_shape = X_train.shape[1]  \n",
    "model.add(layers.Input(shape=(input_shape,)))  \n",
    "model.add(layers.Dense(5000, activation='relu'))  # لایه متراکم با 5000 نورون و تابع فعال‌ساز relu\n",
    "model.add(layers.Dense(1000, activation='relu'))  # لایه متراکم با 1000 نورون و تابع فعال‌ساز relu\n",
    "model.add(layers.Dense(500, activation='relu'))   # لایه متراکم با 500 نورون و تابع فعال‌ساز relu\n",
    "\n",
    "# افزودن لایه خروجی با یک نورون و تابع فعال‌ساز sigmoid (برای پیش‌بینی مقادیر باینری)\n",
    "model.add(layers.Dense(1, activation='sigmoid'))"
   ]
  },
  {
   "cell_type": "code",
   "execution_count": 22,
   "metadata": {},
   "outputs": [
    {
     "data": {
      "text/html": [
       "<pre style=\"white-space:pre;overflow-x:auto;line-height:normal;font-family:Menlo,'DejaVu Sans Mono',consolas,'Courier New',monospace\"><span style=\"font-weight: bold\">Model: \"sequential_1\"</span>\n",
       "</pre>\n"
      ],
      "text/plain": [
       "\u001b[1mModel: \"sequential_1\"\u001b[0m\n"
      ]
     },
     "metadata": {},
     "output_type": "display_data"
    },
    {
     "data": {
      "text/html": [
       "<pre style=\"white-space:pre;overflow-x:auto;line-height:normal;font-family:Menlo,'DejaVu Sans Mono',consolas,'Courier New',monospace\">┏━━━━━━━━━━━━━━━━━━━━━━━━━━━━━━━━━┳━━━━━━━━━━━━━━━━━━━━━━━━┳━━━━━━━━━━━━━━━┓\n",
       "┃<span style=\"font-weight: bold\"> Layer (type)                    </span>┃<span style=\"font-weight: bold\"> Output Shape           </span>┃<span style=\"font-weight: bold\">       Param # </span>┃\n",
       "┡━━━━━━━━━━━━━━━━━━━━━━━━━━━━━━━━━╇━━━━━━━━━━━━━━━━━━━━━━━━╇━━━━━━━━━━━━━━━┩\n",
       "│ dense (<span style=\"color: #0087ff; text-decoration-color: #0087ff\">Dense</span>)                   │ (<span style=\"color: #00d7ff; text-decoration-color: #00d7ff\">None</span>, <span style=\"color: #00af00; text-decoration-color: #00af00\">5000</span>)           │       <span style=\"color: #00af00; text-decoration-color: #00af00\">135,000</span> │\n",
       "├─────────────────────────────────┼────────────────────────┼───────────────┤\n",
       "│ dense_1 (<span style=\"color: #0087ff; text-decoration-color: #0087ff\">Dense</span>)                 │ (<span style=\"color: #00d7ff; text-decoration-color: #00d7ff\">None</span>, <span style=\"color: #00af00; text-decoration-color: #00af00\">1000</span>)           │     <span style=\"color: #00af00; text-decoration-color: #00af00\">5,001,000</span> │\n",
       "├─────────────────────────────────┼────────────────────────┼───────────────┤\n",
       "│ dense_2 (<span style=\"color: #0087ff; text-decoration-color: #0087ff\">Dense</span>)                 │ (<span style=\"color: #00d7ff; text-decoration-color: #00d7ff\">None</span>, <span style=\"color: #00af00; text-decoration-color: #00af00\">500</span>)            │       <span style=\"color: #00af00; text-decoration-color: #00af00\">500,500</span> │\n",
       "├─────────────────────────────────┼────────────────────────┼───────────────┤\n",
       "│ dense_3 (<span style=\"color: #0087ff; text-decoration-color: #0087ff\">Dense</span>)                 │ (<span style=\"color: #00d7ff; text-decoration-color: #00d7ff\">None</span>, <span style=\"color: #00af00; text-decoration-color: #00af00\">1</span>)              │           <span style=\"color: #00af00; text-decoration-color: #00af00\">501</span> │\n",
       "└─────────────────────────────────┴────────────────────────┴───────────────┘\n",
       "</pre>\n"
      ],
      "text/plain": [
       "┏━━━━━━━━━━━━━━━━━━━━━━━━━━━━━━━━━┳━━━━━━━━━━━━━━━━━━━━━━━━┳━━━━━━━━━━━━━━━┓\n",
       "┃\u001b[1m \u001b[0m\u001b[1mLayer (type)                   \u001b[0m\u001b[1m \u001b[0m┃\u001b[1m \u001b[0m\u001b[1mOutput Shape          \u001b[0m\u001b[1m \u001b[0m┃\u001b[1m \u001b[0m\u001b[1m      Param #\u001b[0m\u001b[1m \u001b[0m┃\n",
       "┡━━━━━━━━━━━━━━━━━━━━━━━━━━━━━━━━━╇━━━━━━━━━━━━━━━━━━━━━━━━╇━━━━━━━━━━━━━━━┩\n",
       "│ dense (\u001b[38;5;33mDense\u001b[0m)                   │ (\u001b[38;5;45mNone\u001b[0m, \u001b[38;5;34m5000\u001b[0m)           │       \u001b[38;5;34m135,000\u001b[0m │\n",
       "├─────────────────────────────────┼────────────────────────┼───────────────┤\n",
       "│ dense_1 (\u001b[38;5;33mDense\u001b[0m)                 │ (\u001b[38;5;45mNone\u001b[0m, \u001b[38;5;34m1000\u001b[0m)           │     \u001b[38;5;34m5,001,000\u001b[0m │\n",
       "├─────────────────────────────────┼────────────────────────┼───────────────┤\n",
       "│ dense_2 (\u001b[38;5;33mDense\u001b[0m)                 │ (\u001b[38;5;45mNone\u001b[0m, \u001b[38;5;34m500\u001b[0m)            │       \u001b[38;5;34m500,500\u001b[0m │\n",
       "├─────────────────────────────────┼────────────────────────┼───────────────┤\n",
       "│ dense_3 (\u001b[38;5;33mDense\u001b[0m)                 │ (\u001b[38;5;45mNone\u001b[0m, \u001b[38;5;34m1\u001b[0m)              │           \u001b[38;5;34m501\u001b[0m │\n",
       "└─────────────────────────────────┴────────────────────────┴───────────────┘\n"
      ]
     },
     "metadata": {},
     "output_type": "display_data"
    },
    {
     "data": {
      "text/html": [
       "<pre style=\"white-space:pre;overflow-x:auto;line-height:normal;font-family:Menlo,'DejaVu Sans Mono',consolas,'Courier New',monospace\"><span style=\"font-weight: bold\"> Total params: </span><span style=\"color: #00af00; text-decoration-color: #00af00\">5,637,001</span> (21.50 MB)\n",
       "</pre>\n"
      ],
      "text/plain": [
       "\u001b[1m Total params: \u001b[0m\u001b[38;5;34m5,637,001\u001b[0m (21.50 MB)\n"
      ]
     },
     "metadata": {},
     "output_type": "display_data"
    },
    {
     "data": {
      "text/html": [
       "<pre style=\"white-space:pre;overflow-x:auto;line-height:normal;font-family:Menlo,'DejaVu Sans Mono',consolas,'Courier New',monospace\"><span style=\"font-weight: bold\"> Trainable params: </span><span style=\"color: #00af00; text-decoration-color: #00af00\">5,637,001</span> (21.50 MB)\n",
       "</pre>\n"
      ],
      "text/plain": [
       "\u001b[1m Trainable params: \u001b[0m\u001b[38;5;34m5,637,001\u001b[0m (21.50 MB)\n"
      ]
     },
     "metadata": {},
     "output_type": "display_data"
    },
    {
     "data": {
      "text/html": [
       "<pre style=\"white-space:pre;overflow-x:auto;line-height:normal;font-family:Menlo,'DejaVu Sans Mono',consolas,'Courier New',monospace\"><span style=\"font-weight: bold\"> Non-trainable params: </span><span style=\"color: #00af00; text-decoration-color: #00af00\">0</span> (0.00 B)\n",
       "</pre>\n"
      ],
      "text/plain": [
       "\u001b[1m Non-trainable params: \u001b[0m\u001b[38;5;34m0\u001b[0m (0.00 B)\n"
      ]
     },
     "metadata": {},
     "output_type": "display_data"
    }
   ],
   "source": [
    "model.summary()"
   ]
  },
  {
   "cell_type": "markdown",
   "metadata": {
    "id": "9f7XjaQZ9_jx"
   },
   "source": [
    "<h2 dir=rtl align=left style=\"line-height:200%;font-family:vazir;color:#0099cc\">\n",
    "<font face=\"vazir\" color=\"#0099cc\">\n",
    "Neural Network Training</font>\n"
   ]
  },
  {
   "cell_type": "code",
   "execution_count": 23,
   "metadata": {
    "id": "JzjykerN9DiH"
   },
   "outputs": [],
   "source": [
    "model.compile(optimizer = 'adam',\n",
    "              loss = keras.losses.BinaryCrossentropy(from_logits=False),\n",
    "              metrics = ['accuracy'])"
   ]
  },
  {
   "cell_type": "code",
   "execution_count": 24,
   "metadata": {
    "id": "0Ots6nr--Lgn"
   },
   "outputs": [
    {
     "name": "stdout",
     "output_type": "stream",
     "text": [
      "Epoch 1/10\n",
      "\u001b[1m75/75\u001b[0m \u001b[32m━━━━━━━━━━━━━━━━━━━━\u001b[0m\u001b[37m\u001b[0m \u001b[1m5s\u001b[0m 52ms/step - accuracy: 0.7096 - loss: 0.5692 - val_accuracy: 0.7467 - val_loss: 0.5270\n",
      "Epoch 2/10\n",
      "\u001b[1m75/75\u001b[0m \u001b[32m━━━━━━━━━━━━━━━━━━━━\u001b[0m\u001b[37m\u001b[0m \u001b[1m4s\u001b[0m 50ms/step - accuracy: 0.7524 - loss: 0.5158 - val_accuracy: 0.7524 - val_loss: 0.5176\n",
      "Epoch 3/10\n",
      "\u001b[1m75/75\u001b[0m \u001b[32m━━━━━━━━━━━━━━━━━━━━\u001b[0m\u001b[37m\u001b[0m \u001b[1m4s\u001b[0m 48ms/step - accuracy: 0.7595 - loss: 0.5006 - val_accuracy: 0.7476 - val_loss: 0.5082\n",
      "Epoch 4/10\n",
      "\u001b[1m75/75\u001b[0m \u001b[32m━━━━━━━━━━━━━━━━━━━━\u001b[0m\u001b[37m\u001b[0m \u001b[1m4s\u001b[0m 48ms/step - accuracy: 0.7712 - loss: 0.4855 - val_accuracy: 0.7495 - val_loss: 0.4987\n",
      "Epoch 5/10\n",
      "\u001b[1m75/75\u001b[0m \u001b[32m━━━━━━━━━━━━━━━━━━━━\u001b[0m\u001b[37m\u001b[0m \u001b[1m4s\u001b[0m 47ms/step - accuracy: 0.7685 - loss: 0.4824 - val_accuracy: 0.7457 - val_loss: 0.5034\n",
      "Epoch 6/10\n",
      "\u001b[1m75/75\u001b[0m \u001b[32m━━━━━━━━━━━━━━━━━━━━\u001b[0m\u001b[37m\u001b[0m \u001b[1m4s\u001b[0m 49ms/step - accuracy: 0.7807 - loss: 0.4735 - val_accuracy: 0.7552 - val_loss: 0.5115\n",
      "Epoch 7/10\n",
      "\u001b[1m75/75\u001b[0m \u001b[32m━━━━━━━━━━━━━━━━━━━━\u001b[0m\u001b[37m\u001b[0m \u001b[1m4s\u001b[0m 49ms/step - accuracy: 0.7772 - loss: 0.4654 - val_accuracy: 0.7514 - val_loss: 0.5261\n",
      "Epoch 8/10\n",
      "\u001b[1m75/75\u001b[0m \u001b[32m━━━━━━━━━━━━━━━━━━━━\u001b[0m\u001b[37m\u001b[0m \u001b[1m4s\u001b[0m 49ms/step - accuracy: 0.7823 - loss: 0.4585 - val_accuracy: 0.7505 - val_loss: 0.5234\n",
      "Epoch 9/10\n",
      "\u001b[1m75/75\u001b[0m \u001b[32m━━━━━━━━━━━━━━━━━━━━\u001b[0m\u001b[37m\u001b[0m \u001b[1m4s\u001b[0m 49ms/step - accuracy: 0.7926 - loss: 0.4489 - val_accuracy: 0.7419 - val_loss: 0.5137\n",
      "Epoch 10/10\n",
      "\u001b[1m75/75\u001b[0m \u001b[32m━━━━━━━━━━━━━━━━━━━━\u001b[0m\u001b[37m\u001b[0m \u001b[1m4s\u001b[0m 50ms/step - accuracy: 0.7967 - loss: 0.4333 - val_accuracy: 0.7514 - val_loss: 0.5448\n"
     ]
    }
   ],
   "source": [
    "epochs = 10\n",
    "BATCH_SIZE = 128\n",
    "\n",
    "# آموزش مدل\n",
    "history = model.fit(\n",
    "    X_train, y_train,               # داده‌های آموزشی\n",
    "    batch_size=BATCH_SIZE,          # اندازه دسته\n",
    "    epochs=epochs,                  # تعداد دورهای آموزشی\n",
    "    validation_data=(X_valid, y_valid)  # داده‌های اعتبارسنجی\n",
    ")"
   ]
  },
  {
   "attachments": {},
   "cell_type": "markdown",
   "metadata": {
    "id": "t0klJv0t_net"
   },
   "source": [
    "\n",
    "<h2 align=left style=\"line-height:200%;font-family:vazir;color:#0099cc\">\n",
    "<font face=\"vazir\" color=\"#0099cc\">\n",
    "Making Predictions on Test Data & Generating Output</font>\n",
    "</h2>\n",
    "\n"
   ]
  },
  {
   "attachments": {},
   "cell_type": "markdown",
   "metadata": {},
   "source": [
    "\n",
    "\n",
    "<center>\n",
    "<div dir=ltr style=\"direction: ltr;line-height:200%;font-family:vazir;font-size:medium\">\n",
    "<font face=\"vazir\" size=3>\n",
    "    \n",
    "||<code>Target</code>|\n",
    "|:----:|:-----:|\n",
    "|0|<code>True</code>|\n",
    "|1|<code>True</code>|\n",
    "|2|<code>False</code>|\n",
    "|3|<code>False</code>|\n",
    "|4|<code>True</code>|\n",
    "\n",
    "</font>\n",
    "</div>\n",
    "</center>"
   ]
  },
  {
   "cell_type": "code",
   "execution_count": 25,
   "metadata": {
    "id": "CH7cSHMN-jhi"
   },
   "outputs": [
    {
     "name": "stdout",
     "output_type": "stream",
     "text": [
      "\u001b[1m32/32\u001b[0m \u001b[32m━━━━━━━━━━━━━━━━━━━━\u001b[0m\u001b[37m\u001b[0m \u001b[1m0s\u001b[0m 4ms/step\n"
     ]
    }
   ],
   "source": [
    "test_predictions = model.predict(test)\n",
    "\n",
    "# تبدیل پیش‌بینی‌ها به مقادیر True/False\n",
    "# فرض می‌کنیم مدل یک خروجی با احتمال (بین 0 و 1) می‌دهد\n",
    "# بنابراین از یک آستانه (threshold) برای تبدیل به True/False استفاده می‌کنیم\n",
    "threshold = 0.5\n",
    "test_predictions = (test_predictions >= threshold)\n",
    "\n",
    "# ساخت دیتافریم نهایی برای ارسال\n",
    "submission = pd.DataFrame({'Target': test_predictions.flatten()})"
   ]
  },
  {
   "cell_type": "code",
   "execution_count": null,
   "metadata": {
    "id": "pPMeti0VA1O7"
   },
   "outputs": [],
   "source": [
    "import zipfile\n",
    "import joblib\n",
    "import numpy as np\n",
    "import json\n",
    "import os\n",
    "\n",
    "if not os.path.exists(os.path.join(os.getcwd(), 'new_home.ipynb')):\n",
    "    %notebook -e new_home.ipynb\n",
    "\n",
    "test.to_csv(\"test.csv\")\n",
    "\n",
    "model_info=[]\n",
    "for layer in model.layers:\n",
    "  if layer.__class__.__name__==\"Dense\":\n",
    "    model_info.append({\n",
    "        \"name\": layer.__class__.__name__,\n",
    "        \"units\":layer.units,\n",
    "        \"activation\":layer.get_config()[\"activation\"]\n",
    "    })\n",
    "  else:\n",
    "    model_info.append({\"name\": layer.__class__.__name__})\n",
    "\n",
    "with open(\"model_info.json\", \"w\") as f:\n",
    "    json.dump(model_info, f)\n",
    "\n",
    "\n",
    "def compress(file_names):\n",
    "    print(\"File Paths:\")\n",
    "    print(file_names)\n",
    "    compression = zipfile.ZIP_DEFLATED\n",
    "    with zipfile.ZipFile(\"result.zip\", mode=\"w\") as zf:\n",
    "        for file_name in file_names:\n",
    "            zf.write('./' + file_name, file_name, compress_type=compression)\n",
    "\n",
    "submission.to_csv('submission.csv', index=False)\n",
    "\n",
    "file_names = [\"test.csv\",'submission.csv', 'model_info.json', 'new_home.ipynb']\n",
    "compress(file_names)"
   ]
  }
 ],
 "metadata": {
  "colab": {
   "provenance": []
  },
  "kernelspec": {
   "display_name": "Python 3",
   "language": "python",
   "name": "python3"
  },
  "language_info": {
   "codemirror_mode": {
    "name": "ipython",
    "version": 3
   },
   "file_extension": ".py",
   "mimetype": "text/x-python",
   "name": "python",
   "nbconvert_exporter": "python",
   "pygments_lexer": "ipython3",
   "version": "3.11.4"
  },
  "vscode": {
   "interpreter": {
    "hash": "44e7e1b8fa2096bd5707ed7fd18b1724a2db25f4c565a7673f8b6e7bfc49d25d"
   }
  }
 },
 "nbformat": 4,
 "nbformat_minor": 4
}
